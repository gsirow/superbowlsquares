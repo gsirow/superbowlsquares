{
 "cells": [
  {
   "cell_type": "code",
   "execution_count": 85,
   "metadata": {
    "collapsed": true
   },
   "outputs": [],
   "source": [
    "import pandas as pd\n",
    "import numpy as np\n",
    "import random"
   ]
  },
  {
   "cell_type": "markdown",
   "metadata": {},
   "source": [
    "<h3>Load in historical NFL scores from www.pro-football-reference.com</h3>"
   ]
  },
  {
   "cell_type": "code",
   "execution_count": 31,
   "metadata": {
    "collapsed": false
   },
   "outputs": [],
   "source": [
    "DATA_URL = 'http://www.pro-football-reference.com/years/{year}/games.htm'\n",
    "\n",
    "def load_score_data(min_year, max_year):\n",
    "    \"\"\"load NFL score data for given year range\"\"\"\n",
    "    data = []\n",
    "    for year in range(min_year, max_year):\n",
    "        try:\n",
    "            df = pd.read_html(DATA_URL.format(year=year))[0]\n",
    "            df['year'] = year\n",
    "            data.append(df)\n",
    "        except IndexError:\n",
    "            print('error loading data for year {}'.format(year))\n",
    "    df = pd.concat(data)\n",
    "    df = df[(df['PtsW'] != 'PtsW') & pd.notnull(df['PtsW'])] #drop extra header rows\n",
    "    return df\n",
    "\n",
    "df = load_score_data(2000, 2015)"
   ]
  },
  {
   "cell_type": "code",
   "execution_count": 32,
   "metadata": {
    "collapsed": false
   },
   "outputs": [
    {
     "data": {
      "text/html": [
       "<div>\n",
       "<table border=\"1\" class=\"dataframe\">\n",
       "  <thead>\n",
       "    <tr style=\"text-align: right;\">\n",
       "      <th></th>\n",
       "      <th>Week</th>\n",
       "      <th>Day</th>\n",
       "      <th>Date</th>\n",
       "      <th>Unnamed: 3</th>\n",
       "      <th>Winner/tie</th>\n",
       "      <th>Unnamed: 5</th>\n",
       "      <th>Loser/tie</th>\n",
       "      <th>PtsW</th>\n",
       "      <th>PtsL</th>\n",
       "      <th>YdsW</th>\n",
       "      <th>TOW</th>\n",
       "      <th>YdsL</th>\n",
       "      <th>TOL</th>\n",
       "      <th>year</th>\n",
       "    </tr>\n",
       "  </thead>\n",
       "  <tbody>\n",
       "    <tr>\n",
       "      <th>0</th>\n",
       "      <td>1</td>\n",
       "      <td>Sun</td>\n",
       "      <td>September 3</td>\n",
       "      <td>boxscore</td>\n",
       "      <td>Washington Redskins</td>\n",
       "      <td>NaN</td>\n",
       "      <td>Carolina Panthers</td>\n",
       "      <td>20</td>\n",
       "      <td>17</td>\n",
       "      <td>396</td>\n",
       "      <td>0</td>\n",
       "      <td>236</td>\n",
       "      <td>1</td>\n",
       "      <td>2000</td>\n",
       "    </tr>\n",
       "    <tr>\n",
       "      <th>1</th>\n",
       "      <td>1</td>\n",
       "      <td>Sun</td>\n",
       "      <td>September 3</td>\n",
       "      <td>boxscore</td>\n",
       "      <td>Tampa Bay Buccaneers</td>\n",
       "      <td>@</td>\n",
       "      <td>New England Patriots</td>\n",
       "      <td>21</td>\n",
       "      <td>16</td>\n",
       "      <td>296</td>\n",
       "      <td>1</td>\n",
       "      <td>278</td>\n",
       "      <td>1</td>\n",
       "      <td>2000</td>\n",
       "    </tr>\n",
       "    <tr>\n",
       "      <th>2</th>\n",
       "      <td>1</td>\n",
       "      <td>Sun</td>\n",
       "      <td>September 3</td>\n",
       "      <td>boxscore</td>\n",
       "      <td>Atlanta Falcons</td>\n",
       "      <td>NaN</td>\n",
       "      <td>San Francisco 49ers</td>\n",
       "      <td>36</td>\n",
       "      <td>28</td>\n",
       "      <td>359</td>\n",
       "      <td>1</td>\n",
       "      <td>339</td>\n",
       "      <td>1</td>\n",
       "      <td>2000</td>\n",
       "    </tr>\n",
       "    <tr>\n",
       "      <th>3</th>\n",
       "      <td>1</td>\n",
       "      <td>Sun</td>\n",
       "      <td>September 3</td>\n",
       "      <td>boxscore</td>\n",
       "      <td>Miami Dolphins</td>\n",
       "      <td>NaN</td>\n",
       "      <td>Seattle Seahawks</td>\n",
       "      <td>23</td>\n",
       "      <td>0</td>\n",
       "      <td>308</td>\n",
       "      <td>1</td>\n",
       "      <td>143</td>\n",
       "      <td>6</td>\n",
       "      <td>2000</td>\n",
       "    </tr>\n",
       "    <tr>\n",
       "      <th>4</th>\n",
       "      <td>1</td>\n",
       "      <td>Sun</td>\n",
       "      <td>September 3</td>\n",
       "      <td>boxscore</td>\n",
       "      <td>Oakland Raiders</td>\n",
       "      <td>NaN</td>\n",
       "      <td>San Diego Chargers</td>\n",
       "      <td>9</td>\n",
       "      <td>6</td>\n",
       "      <td>233</td>\n",
       "      <td>0</td>\n",
       "      <td>255</td>\n",
       "      <td>4</td>\n",
       "      <td>2000</td>\n",
       "    </tr>\n",
       "  </tbody>\n",
       "</table>\n",
       "</div>"
      ],
      "text/plain": [
       "  Week  Day         Date Unnamed: 3            Winner/tie Unnamed: 5  \\\n",
       "0    1  Sun  September 3   boxscore   Washington Redskins        NaN   \n",
       "1    1  Sun  September 3   boxscore  Tampa Bay Buccaneers          @   \n",
       "2    1  Sun  September 3   boxscore       Atlanta Falcons        NaN   \n",
       "3    1  Sun  September 3   boxscore        Miami Dolphins        NaN   \n",
       "4    1  Sun  September 3   boxscore       Oakland Raiders        NaN   \n",
       "\n",
       "              Loser/tie PtsW PtsL YdsW TOW YdsL TOL  year  \n",
       "0     Carolina Panthers   20   17  396   0  236   1  2000  \n",
       "1  New England Patriots   21   16  296   1  278   1  2000  \n",
       "2   San Francisco 49ers   36   28  359   1  339   1  2000  \n",
       "3      Seattle Seahawks   23    0  308   1  143   6  2000  \n",
       "4    San Diego Chargers    9    6  233   0  255   4  2000  "
      ]
     },
     "execution_count": 32,
     "metadata": {},
     "output_type": "execute_result"
    }
   ],
   "source": [
    "df.head()"
   ]
  },
  {
   "cell_type": "markdown",
   "metadata": {},
   "source": [
    "<h3>Calculate square frequencies and run simulation</h3>"
   ]
  },
  {
   "cell_type": "code",
   "execution_count": 86,
   "metadata": {
    "collapsed": false
   },
   "outputs": [],
   "source": [
    "def score_frequencies(frame):\n",
    "    \"\"\"calculate score frequencies given data of scores\"\"\"\n",
    "    score_pairs = pd.Series(list(zip(frame['PtsW'], frame['PtsL'])))\n",
    "    return score_pairs.value_counts() / len(score_pairs)\n",
    "\n",
    "def sb_square_frequencies(frame):\n",
    "    \"\"\"calculate frequency of a given super bowl squares pair\n",
    "    occuring in given data of historial scores\n",
    "    \n",
    "    randomly permute win and loss digits 50% of the time because\n",
    "    do not know if winning team on row or column axis\n",
    "    \n",
    "    \"\"\"\n",
    "    random.seed(242016)\n",
    "    win_digit = frame['PtsW'].map(lambda x: int(x) % 10)\n",
    "    loss_digit = frame['PtsL'].map(lambda x: int(x) % 10 )\n",
    "    pairs = pd.Series(list(zip(win_digit, loss_digit)))\n",
    "    pairs = pairs.map(lambda pair: (pair[1], pair[0]) if random.random() < 0.5 else pair)\n",
    "    return pairs.value_counts() / len(pairs)"
   ]
  },
  {
   "cell_type": "code",
   "execution_count": 100,
   "metadata": {
    "collapsed": false
   },
   "outputs": [],
   "source": [
    "same_results = []\n",
    "diff_results = []\n",
    "for i in range(10000):\n",
    "    first_choice = random.choice(freqs.index)\n",
    "    same_row_col_set = [pair for pair in freqs.index if pair != first_choice\n",
    "                        and (pair[0] == first_choice[0] or pair[1] == first_choice[1])]\n",
    "    diff_row_col_set = [pair for pair in freqs.index if pair[0] != first_choice[0]\n",
    "                        and pair[1] != first_choice[1]]\n",
    "    same_choice = random.choice(same_row_col_set)\n",
    "    diff_choice = random.choice(diff_row_col_set)\n",
    "    same_win_pct = freqs[first_choice] + freqs[same_choice]\n",
    "    diff_win_pct = freqs[first_choice] + freqs[diff_choice]\n",
    "    same_results.append(same_win_pct)\n",
    "    diff_results.append(diff_win_pct)"
   ]
  },
  {
   "cell_type": "code",
   "execution_count": 101,
   "metadata": {
    "collapsed": false
   },
   "outputs": [
    {
     "data": {
      "text/plain": [
       "(0.019865404863374278, 0.020139984958636246)"
      ]
     },
     "execution_count": 101,
     "metadata": {},
     "output_type": "execute_result"
    }
   ],
   "source": [
    "np.mean(same_results), np.mean(diff_results)"
   ]
  },
  {
   "cell_type": "code",
   "execution_count": null,
   "metadata": {
    "collapsed": true
   },
   "outputs": [],
   "source": []
  }
 ],
 "metadata": {
  "kernelspec": {
   "display_name": "Python 3",
   "language": "python",
   "name": "python3"
  },
  "language_info": {
   "codemirror_mode": {
    "name": "ipython",
    "version": 3
   },
   "file_extension": ".py",
   "mimetype": "text/x-python",
   "name": "python",
   "nbconvert_exporter": "python",
   "pygments_lexer": "ipython3",
   "version": "3.5.1"
  }
 },
 "nbformat": 4,
 "nbformat_minor": 0
}
